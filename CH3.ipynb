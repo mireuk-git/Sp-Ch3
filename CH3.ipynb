{
 "cells": [
  {
   "cell_type": "markdown",
   "id": "abb36b96-6c92-46b4-8262-95563421c622",
   "metadata": {},
   "source": [
    "1. 사용환경 준비 - Gemini API Key 준비"
   ]
  },
  {
   "cell_type": "code",
   "execution_count": 2,
   "id": "a226a7fd-fc9e-498f-9fd0-f4668402b666",
   "metadata": {},
   "outputs": [
    {
     "name": "stdin",
     "output_type": "stream",
     "text": [
      "Gemini API Key: ········\n"
     ]
    }
   ],
   "source": [
    "import os\n",
    "from getpass import getpass\n",
    "\n",
    "#API키 입력\n",
    "os.environ[\"GOOGLE_API_KEY\"] = getpass(\"Gemini API Key:\")"
   ]
  },
  {
   "cell_type": "markdown",
   "id": "822d1c14-8e4e-4a62-a60e-22507fee76bf",
   "metadata": {},
   "source": [
    "2. Gemini 모델 로드하기"
   ]
  },
  {
   "cell_type": "code",
   "execution_count": 4,
   "id": "ef2d2e80-45fc-496c-83d2-cb3be6ad658e",
   "metadata": {
    "scrolled": true
   },
   "outputs": [],
   "source": [
    "from langchain_google_genai import ChatGoogleGenerativeAI\n",
    "\n",
    "#Gemini 모델 생성\n",
    "model = ChatGoogleGenerativeAI(model=\"gemini-pro\",convert_system_message_to_human=True)"
   ]
  },
  {
   "cell_type": "markdown",
   "id": "39177ac8-a0ca-4de5-8afd-ff73fd1693ea",
   "metadata": {},
   "source": [
    "3. 문서 로드하기"
   ]
  },
  {
   "cell_type": "code",
   "execution_count": 6,
   "id": "606217ea-9290-4c12-a314-c2c414e95b9a",
   "metadata": {},
   "outputs": [],
   "source": [
    "from langchain.document_loaders import PyPDFLoader\n",
    "\n",
    "#PDF 파일 로드\n",
    "loader = PyPDFLoader(\"인공지능산업최신동향_2024년11월호.pdf\")\n",
    "\n",
    "#PDF 파일 \n",
    "docs = loader.load()"
   ]
  },
  {
   "cell_type": "markdown",
   "id": "b7a4c140-878f-499c-a277-f8a5d976b634",
   "metadata": {},
   "source": [
    "4. 문서 청크로 나누기 - CharacterTextSplitter"
   ]
  },
  {
   "cell_type": "code",
   "execution_count": 8,
   "id": "96b6053f-fe6f-4cf1-8651-65210150de2b",
   "metadata": {},
   "outputs": [],
   "source": [
    "#CharacterTextSplitter\n",
    "\n",
    "from langchain.text_splitter import CharacterTextSplitter\n",
    "\n",
    "#splitter모델 생성\n",
    "text_splitter = CharacterTextSplitter(\n",
    "    separator=\"\\n\\n\",#구분자 지정\n",
    "    chunk_size=100,#청크 최대 사이즈\n",
    "    chunk_overlap=10,#청크 중복 문자열\n",
    "    length_function=len,#길이 측정 메소드\n",
    "    is_separator_regex=True,#정규식\n",
    ")\n",
    "\n",
    "#청킹\n",
    "splits = text_splitter.split_documents(docs)"
   ]
  },
  {
   "cell_type": "code",
   "execution_count": 9,
   "id": "719fc87a-b078-4f82-9d90-46d9cbaee7d6",
   "metadata": {
    "scrolled": true
   },
   "outputs": [
    {
     "name": "stdout",
     "output_type": "stream",
     "text": [
      "page_content='2024 년 11월호' metadata={'source': '인공지능산업최신동향_2024년11월호.pdf', 'page': 0}\n",
      "page_content='2024 년 11월호\n",
      "Ⅰ. 인공지능 산업 동향 브리프\n",
      " 1. 정책/법제 \n",
      "   ▹ 미국 민권위원회 , 연방정부의 얼굴인식 기술 사용에 따른 민권 영향 분석························ 1\n",
      "   ▹ 미국 백악관 예산관리국 , 정부의 책임 있는 AI 조달을 위한 지침 발표····························· 2\n",
      "   ▹ 유로폴 , 법 집행에서 AI의 이점과 과제를 다룬 보고서 발간·············································· 3\n",
      "   ▹ OECD, 공공 부문의 AI 도입을 위한 G7 툴킷 발표·························································· 4\n",
      "   ▹ 세계경제포럼 , 생성AI 시대의 거버넌스 프레임워크 제시···················································· 5\n",
      " \n",
      " 2. 기업/산업 \n",
      "   ▹ CB인사이츠 분석 결과, 2024 년 3분기 벤처 투자 31%가 AI 스타트업에 집중·············· 6\n",
      "   ▹ 메타, 동영상 생성AI 도구 ‘메타 무비 젠’ 공개··································································· 7\n",
      "   ▹ 메타, 이미지와 텍스트 처리하는 첫 멀티모달 AI 모델 ‘라마 3.2’ 공개··························· 8\n",
      "   ▹ 앨런AI연구소 , 벤치마크 평가에서 GPT-4o 능가하는 성능의 오픈소스 LLM ‘몰모’ 공개····9\n",
      "   ▹ 미스트랄 AI, 온디바이스용 AI 모델 ‘레 미니스트로 ’ 공개················································· 10\n",
      "   ▹ 카카오 , 통합 AI 브랜드 겸 신규 AI 서비스 ‘카나나 ’ 공개··············································· 11\n",
      " 3. 기술/연구\n",
      "   ▹ 2024 년 노벨 물리학상과 화학상 , AI 관련 연구자들이 수상············································ 12\n",
      "   ▹ 미국 국무부 , AI 연구에서 국제협력을 위한 ‘글로벌 AI 연구 의제’ 발표························ 13\n",
      "   ▹ 일본 AI안전연구소 , AI 안전성에 대한 평가 관점 가이드 발간········································ 14\n",
      "   ▹ 구글 딥마인드 , 반도체 칩 레이아웃 설계하는 AI 모델 ‘알파칩 ’ 발표····························· 15\n",
      "   ▹ AI21 CEO, AI 에이전트에 트랜스포머 아키텍처의 대안 필요성 강조···························· 16\n",
      "   \n",
      " 4. 인력/교육     \n",
      "   ▹ MIT 산업성과센터 , 근로자 관점에서 자동화 기술의 영향 조사········································ 17\n",
      "   ▹ 다이스 조사, AI 전문가의 73%는 2025 년 중 이직 고려················································ 18\n",
      "   ▹ 가트너 예측, AI로 인해 엔지니어링 인력의 80%가 역량 향상 필요 ····························· 19\n",
      "   ▹ 인디드 조사 결과, 생성AI가 인간 근로자 대체할 가능성은 희박····································· 20\n",
      "    \n",
      "Ⅱ. 주요 행사\n",
      "  ▹NeurIPS 2024 ······················································································································ 21\n",
      "  ▹GenAI Summit Maroc 2024 ····························································································· 21\n",
      "  ▹AI Summit Seoul 2024 ····································································································· 21' metadata={'source': '인공지능산업최신동향_2024년11월호.pdf', 'page': 1}\n",
      "page_content='Ⅰ. 인공지능 산업 동향 브리프' metadata={'source': '인공지능산업최신동향_2024년11월호.pdf', 'page': 2}\n",
      "page_content='1. 정책/법제  2. 기업/산업 3. 기술/연구  4. 인력/교육\n",
      "1미국 민권위원회 , 연방정부의 얼굴인식 기술 사용에 따른 민권 영향 분석\n",
      "n미국 민권위원회에 따르면 연방정부와 법 집행기관에서 얼굴인식 기술이 빠르게 도입되고 \n",
      "있으나 이를 관리할 지침과 감독의 부재로 민권 문제를 초래할 위험 존재\n",
      "n미국 민권위원회는 연방정부의 책임 있는 얼굴인식 기술 사용을 위해 운영 프로토콜 개발과 \n",
      "실제 사용 상황의 얼굴인식 기술 평가 및 불평등 완화, 지역사회의 의견 수렴 등을 권고KEY Contents\n",
      "£연방정부의 얼굴인식 기술 도입에 대한 지침과 감독 부재로 민권 문제를 초래할 위험 존재\n",
      "n미국 민권위원회 (U.S. Commission on Civil Rights) 가 2024 년 9월 19일 연방정부의 얼굴인식  \n",
      "기술 사용이 민권에 미치는 영향을 분석한 보고서를 발간\n",
      "∙AI 기술의 일종인 얼굴인식 기술은 연방정부와 법 집행기관에서 빠르게 도입되고 있으며 , 일례로 \n",
      "법무부 연방수사국 (FBI)은 범죄 수사 및 용의자 수색용 단서 확보를 위해 얼굴인식 기술을 가장 빈번히 사용\n",
      "∙그러나 얼굴인식 기술의 책임 있는 사용을 위한 연방 지침과 감독은 실제 활용 사례보다 뒤처졌으며 , \n",
      "현재 연방정부의 얼굴인식 기술이나 여타 AI 기술 사용을 명시적으로 규제하는 법률도 부재  \n",
      "n보고서에 따르면 얼굴인식 기술의 무분별한 사용은 편향, 개인정보 침해, 적법 절차의 미준수 \n",
      "및 차별적 영향과 같은 민권 문제를 초래할 위험 보유\n",
      "∙얼굴인식 기술의 정확도는 인종, 성별, 연령 등 인구통계학적 요인에 따라 달라질 수 있으며 , 이는 식별 \n",
      "오류 및 부정확한 체포로 이어져 유색인종을 비롯한 특정 집단에 차별적 결과를 초래할 위험 존재\n",
      "∙정부 기관이 사전 영장이나 정당한 이유 없이 얼굴인식 기술을 광범위하게 사용할 경우 개인을 \n",
      "지속적으로 추적하고 감시함으로써 개인정보 보호 권리에 심각한 영향을 미칠 위험 존재\n",
      "∙법 집행기관의 얼굴인식 기술 사용 시 부정확한 식별 및 편향으로 인해 개인이 법의 보호를 받아 \n",
      "공정하고 올바르게 대우받을 권리를 침해할 가능성도 존재\n",
      "£민권위원회 , 연방정부의 책임 있는 얼굴인식 기술 사용을 위한 권고사항 제시\n",
      "n민권위원회는 연방정부의 얼굴인식 기술 사용과 관련해 다음과 같은 권고사항을 제시\n",
      "∙국립표준기술연구소 (NIST) 는 정부 기관의 얼굴인식 기술 시스템 도입 시의 효과와 공평성 , 정확성 \n",
      "평가에 사용할 수 있는 운영 테스트 프로토콜의 개발 필요\n",
      "∙각 연방정부 기관의 최고AI책임자는 실제 사용 상황에서 얼굴인식 기술을 평가하고 차별이나 편견으로 \n",
      "인한 불평등을 완화하며 , 얼굴인식 기술의 사용으로 영향을 받는 지역사회의 의견을 수렴 필요\n",
      "∙얼굴인식 기술 제공업체는 다양한 인구통계 집단에 대한 높은 정확도를 보장하기 위해 지속적인 교육과 \n",
      "지원, 업데이트를 제공 필요 \n",
      "☞ 출처: U.S. Commission on Civil Rights, The Civil Rights Implications of the Federal Use of Facial Recognition Technology, 2024.09.19.' metadata={'source': '인공지능산업최신동향_2024년11월호.pdf', 'page': 3}\n",
      "page_content='SPRi AI Brief |  \n",
      "2024-11 월호\n",
      "2미국 백악관 예산관리국 , 정부의 책임 있는 AI 조달을 위한 지침 발표\n",
      "n미국 백악관 예산관리국이 바이든 대통령의 AI 행정명령에 따라 연방정부의 책임 있는 AI 조달을 \n",
      "지원하기 위한 지침을 발표 \n",
      "n지침은 정부 기관의 AI 조달 시 AI의 위험과 성과를 관리할 수 있는 모범 관행의 수립 및 최상의 AI \n",
      "솔루션을 사용하기 위한 공급업체 시장의 경쟁 보장, 정부 기관 간 협업을 요구  KEY Contents\n",
      "£백악관 예산관리국 , 연방정부의 AI 조달 시 책임성을 증진하기 위한 모범 관행 제시\n",
      "n미국 백악관 예산관리국 (OMB) 이 바이든 대통령의 AI 행정명령에 따른 후속 조치로 2024년 10월 3일 \n",
      "‘정부의 책임 있는 AI 조달 지침(M-24-18)’ 을 발표\n",
      "∙미국 연방정부는 2023 년 1,000 억 달러 이상의 IT 제품과 서비스를 구매한 미국 경제 최대 규모의 단일 \n",
      "구매자로서 구매력을 활용해 책임 있는 AI의 발전을 뒷받침할 계획\n",
      "∙이번 지침은 △AI 위험과 성과 관리 △AI 시장의 경쟁 촉진 △연방정부 전반의 협업 보장이라는 3개 \n",
      "전략적 목표에 대하여 권고사항을 제시\n",
      "n(AI 위험과 성과 관리) 예산관리국의 지침은 AI 시스템의 구축, 훈련, 배포 방식의 복잡성을 고려해 \n",
      "AI의 위험과 성과를  관리하기 위한 모범 관행을 다음과 같이 제시\n",
      "∙정부 기관의 개인정보 보호 담당자가 AI 조달 프로세스에 조기에 지속적으로 참여해 개인정보 보호 \n",
      "위험을 식별 및 관리하고 법률과 정책 준수를 보장\n",
      "∙정부 기관과 공급업체와 간 협력으로 AI 솔루션이 조달되는 시기와 해당 조달로 인해 시민 권리와 \n",
      "안전에 영향을 미치는 AI에 대하여 추가로 위험관리가 필요한 시점을 파악\n",
      "∙성과 기반의 혁신적 조달 기법을 활용해 정부 기관이 위험을 효과적으로 관리 및 완화하고 성과를 향상할 \n",
      "수 있도록 장려하는 한편, 정부 데이터와 지식재산권을 보호하는 방식으로 계약 조건을 협상 \n",
      "n(AI 시장의 경쟁 촉진) 지침은 정부 기관이 최상의 AI 솔루션을 사용할 수 있도록 공급업체 시장에서 \n",
      "강력한 경쟁을 보장할 것을 요구  \n",
      "∙계약 요건 수립 시 공급업체 의존성을 최소화할 수 있는 인수 원칙을 적용하고 , 시장 조사와 요구사항 \n",
      "개발, 공급업체 평가 절차에서 상호운용성과 투명성을 고려하며 , 혁신적 조달 관행을 활용해 우수한 \n",
      "계약업체 성과와 정부 기관의 임무 성과를 보장\n",
      "n(연방정부 전반의 협업 보장) 빠르게 발전하는 AI 기술환경의 위험관리를 위해 AI 전문지식을 갖춘 \n",
      "공무원과 조달, 개인정보보호 , 사이버보안 전문가를 포함하는 협업 팀을 구성해 전략적 조달을 지원  \n",
      "∙각 정부 기관은 기관 간 협의회를 구성해 효과적이고 책임 있는 AI 조달을 지원하고 , 협업 시 기관 목표에 \n",
      "가장 적합한 AI 투자 식별 및 우선순위 지정, AI 배포 역량 개발, AI 모범 활용 사례 채택 증진 등을 고려\n",
      "☞ 출처: The White House, FACT SHEET: OMB Issues Guidance to Advance the Responsible Acquisition of AI in \n",
      "Government, 2024.10.03.' metadata={'source': '인공지능산업최신동향_2024년11월호.pdf', 'page': 4}\n",
      "page_content='1. 정책/법제  2. 기업/산업 3. 기술/연구  4. 인력/교육\n",
      "3유로폴 , 법 집행에서 AI의 이점과 과제를 다룬 보고서 발간\n",
      "n유로폴의 보고서에 따르면 AI는 고급 데이터 분석, 디지털 증거 수집, 이미지와 비디오 \n",
      "분석 등에 활용되어 법 집행 업무를 대폭 개선할 수 있는 잠재력 보유\n",
      "n그러나 AI 도입을 위해서는 기술적 과제 해결 및 다양한 윤리적 ·사회적 이슈 대응이 \n",
      "필요하며 , EU AI 법에 부합하도록 기존 AI 시스템에 대한 평가와 수정도 필요KEY Contents\n",
      "£유로폴 , 법 집행에서 AI 기술의 윤리적이고 투명한 구현을 위한 고려사항 제시\n",
      "nEU 사법기관 유로폴 (Europol) 이 2024 년 9월 24일 법 집행에서 효과적 범죄 퇴치를 위한 AI의 \n",
      "활용 가능성을 탐색한 보고서를 발간\n",
      "∙보고서는 법 집행에서 AI 기술을 윤리적이고 투명하게 구현하기 위한 지침 역할을 하며, AI의 이점과 \n",
      "과제를 함께 다룸으로써 법 집행에서 AI 사용 시 윤리적 고려 사항에 대한 인식 제고를 추구\n",
      "n보고서에 따르면 AI는 고급 데이터 분석, 디지털 증거 수집, 이미지와 비디오 분석, 생체인식 \n",
      "시스템 등에 활용되어 법 집행 업무를 대폭 개선할 수 있는 잠재력 보유\n",
      "∙법 집행기관은 AI 기반 데이터 분석을 활용해 범죄 활동에 대한 탐지와 대응 능력을 강화하고 , AI \n",
      "도구로 구조화되지 않은 데이터를 신속히 분석해 비상 상황의 의사결정을 위한 통찰력 확보 가능 \n",
      "∙기계번역과 같은 AI 기반 도구는 여러 국가가 참여하는 조사에서 원활한 국제협력을 위해서도 필수적\n",
      "n그러나 법 집행에서 AI 도구의 효과적이고 책임 있는 활용을 위해 해결되어야 할 기술적 과제 및 \n",
      "다양한 윤리적 ·사회적 우려도 존재\n",
      "∙일례로 관할권 간 데이터 수집과 보관 관행의 차이에 따른 데이터셋의 편향으로 인해 AI 산출물의  \n",
      "무결성 (無缺性 )이 손상될 수 있어 표준화된 데이터 수집 규약 필요\n",
      "∙데이터 규모나 활용 사례의 복잡성과 관계없이 AI 도구를 효과적으로 사용하려면 다양한 데이터 \n",
      "규모와 운영 요구사항에 적응할 수 있는 확장성과 성능을 갖춘 AI 모델도 개발 필요\n",
      "∙편향, 개인정보 침해와 인권 침해와 같은 다양한 윤리적 ·사회적 우려도 존재하며 , 이를 해소하기 \n",
      "위해 데이터 편향을 제거하고 공공 안전과 개인정보 간 균형을 유지하며 AI 의사 결정 과정에 \n",
      "대한 투명성과 책임성을 보장 필요\n",
      "n보고서는 2024 년 8월 발효된 EU AI 법이 법 집행기관에 미칠 영향도 분석\n",
      "∙EU AI 법은 공공장소에서 실시간 생체인식 식별과 같은 특정 애플리케이션의 사용을 금지하고 \n",
      "고위험 AI 시스템에 엄격한 감독을 부과하였으나 법 집행 활동의 특수성을 고려해 일부 예외를 설정 \n",
      "∙그러나 일부 예외에도 법 집행 역량 강화를 위한 AI 사용을 위해서는 기존에 도입한 AI \n",
      "시스템에 대한 재평가와 수정이 필요한 만큼, 재정과 인력 측면의 상당한 부담 예상\n",
      "☞ 출처: Europol, AI and policing-The benefits and challenges of artificial intelligence for law enforcement, 2024.09.24.' metadata={'source': '인공지능산업최신동향_2024년11월호.pdf', 'page': 5}\n",
      "page_content='SPRi AI Brief |  \n",
      "2024-11 월호\n",
      "4OECD, 공공 부문의 AI 도입을 위한 G7 툴킷 발표\n",
      "nOECD 는 공공 부문에서 EU 및 G7 국가들의 AI 도입 모범사례와 거버넌스 프레임워크 , \n",
      "정책 옵션을 토대로 공공 부문의 AI 도입을 안내하는 보고서를 발표\n",
      "n보고서는 공공 부문의 AI 도입 시 프로토타입부터 시작해 시범 도입을 거쳐 본격적으로 \n",
      "구현하는 단계별 접근방식을 권고KEY Contents\n",
      "£OECD, G7의 사례를 토대로 공공 부문의 AI 도입을 안내하는 지침 마련\n",
      "nOECD 가 2024년 10월 15일 안전하고 신뢰할 수 있는 AI의 원칙을 실행 가능한 정책으로 전환할  \n",
      "수 있도록 지원하는 ‘공공 부문의 AI를 위한 G7 툴킷’ 보고서를 발간\n",
      "∙OECD 는 G7 회원국이 작성한 설문 응답 및 OECD 와 UNESCO 의 연구를 토대로 공공 부문에서 AI \n",
      "활용 모범사례와 거버넌스 프레임워크 , 정책 옵션과 관련된 종합적 지침 제공을 목표로 보고서를 작성\n",
      "nG7과 EU의 AI 도입 추세를 분석한 결과, G7 회원국과 EU는 공공 부문의 AI 도입과 관련된 \n",
      "국가 전략 및 정책의 개발과 구현에서 차이가 존재  \n",
      "∙EU·독일·미국·영국·일본은 국가 AI 전략에 공공 부문을 포함했고 프랑스는 국가 AI 전략에서는 \n",
      "공공 부문을 구체적으로 다루지 않으나 공공행정 혁신기금 (FTAP) 을 조성하여 60개 이상의 AI \n",
      "프로젝트에 투자하는 등 별도의 정책을 수립\n",
      "∙캐나다는 2025 년 봄까지 공공 서비스를 위한 AI 전략을 개발할 계획이며 , 이탈리아는 ‘공공 \n",
      "부문 디지털화를 위한 3개년 계획(2024~2026)’ 에 AI를 포함 \n",
      "∙G7 회원국들은 접근방식의 차이에도 인재와 기술 개발, 조달 정책, 협력관계 구축, 윤리적이고 \n",
      "신뢰할 수 있으며 인간 중심적인 AI 관행 조성, 데이터 품질 보장 등에서 공통점을 보유\n",
      "nAI 거버넌스 프레임워크 측면에서 G7 회원국 중 미국·캐나다 ·프랑스와 EU는 여러 기관이 AI를 관리하는 \n",
      "분산형 거버넌스 구조를 채택했으며 이탈리아 ·독일·영국은 단일 기관이 AI를 관리하는 중앙집중형 \n",
      "거버넌스를 채택\n",
      "nG7 회원국들은 공공 부문의 운영 효율성 향상, 정책 결정 강화, 공공 서비스 개선, 정부의 투명성과 \n",
      "책임성 강화를 위해 AI를 활용하는 한편, 다양한 정책 옵션으로 AI 도입 시의 과제 해결을 모색\n",
      "∙AI 도입에 필수적인 인프라를 강화하기 위한 데이터 저장과 공유 솔루션 채택, AI에 적합한 \n",
      "혁신적이고 유연한 조달 절차의 수립 및 민간 파트너십 육성, 공공 부문의 AI 역량 강화, 데이터 \n",
      "거버넌스 프레임워크 구축 등이 대표적인 정책 옵션\n",
      "n보고서는 공공 부문의 AI 도입 시 각 단계를 신중히 관리하여 위험을 완화할 수 있도록 , 문제를 \n",
      "명확히 정의하고 아이디어를 구상한 뒤 프로토타입부터 시작해 통제된 환경에서 AI를 시범 도입한 \n",
      "후 이를 개선해 본격적으로 구현하는 단계적 접근방식을 강조\n",
      "☞ 출처: OECD, G7 Toolkit for Artificial Intelligence in the Public Sector, 2024.10.15.' metadata={'source': '인공지능산업최신동향_2024년11월호.pdf', 'page': 6}\n",
      "page_content='1. 정책/법제  2. 기업/산업 3. 기술/연구  4. 인력/교육\n",
      "5세계경제포럼 , 생성AI 시대의 거버넌스 프레임워크 제시\n",
      "n세계경제포럼이 글로벌 정책입안자를 대상으로 생성AI의 공익적 활용과 경제·사회적 \n",
      "균형 달성, 위험 완화를 위한 거버넌스 프레임워크를 제안하는 백서를 발표\n",
      "n백서에 따르면 정부는 기존 규제를 평가해 생성AI로 인한 규제 격차를 해소하는 한편, 다양한 \n",
      "이해관계자 간 지식 공유를 촉진하고 미래의 AI 발전에 대비한 규제 민첩성을 갖출 필요KEY Contents\n",
      "£생성AI 거버넌스 , 과거-현재-미래를 아우르는 프레임워크 수립 필요\n",
      "n세계경제포럼 (WEF) 이 2024 년 10월 8일 세계 각국의 정책입안자를 대상으로 생성AI 거버넌스 \n",
      "프레임워크를 제시한 백서를 발간\n",
      "∙백서는 생성AI의 공익적 활용과 경제·사회적 균형 달성, 위험 완화라는 목표 달성을 위해 △과거 \n",
      "활용(Harness Past) △현재 구축(Build Present) △미래 계획(Plan Future) 의 프레임워크를 제안\n",
      "n(과거 활용) 기존 규제를 활용하고 생성AI로 인한 규제 격차를 해소하는 것으로 , 정부는 새로운 AI \n",
      "규제나  관할 당국을 수립하기에 앞서 다음 사항을 추진할 필요\n",
      "∙생성AI로 인한 문제나 격차 발생에 관하여 기존 규제를 평가하고 다양한 규제 수단의 정책 목표를 \n",
      "고려해 규제를 조정하며 , 규제 선례를 참고해 책임 할당을 명확히 하고 격차가 발견된 부분을 보완\n",
      "∙기존 규제 당국이 생성AI 문제를 해결할 역량이 있는지 평가하고 , AI 전담 기관을 설치하여 규제 \n",
      "권한을 집중하는 방안의 장단점을 고려\n",
      "n(현재 구축) 사회 전반의 생성AI 거버넌스와 지식 공유의 증진을 의미하며 , 생성AI의 거버넌스에는 \n",
      "정책입안자와 규제 당국 외에 산업계 , 시민사회 , 학계를 포함한 이해관계자 참여가 필수적\n",
      "∙정부는 다양한 거버넌스 수단을 활용해 사회 전반의 생성AI 거버넌스에 참여하는 각 이해관계자 \n",
      "집단의 고유한 문제에 대응 필요\n",
      "∙다양한 이해관계자 간 지식 공유를 촉진하고 , 책임 있는 AI 관행으로 사회에 모범을 보일 필요성 존재\n",
      "n(미래 계획) 생성AI 거버넌스에 대한 민첩한 준비와 함께 국제협력을 촉진하는 것으로 , 정부는 빠\n",
      "른 기술 발전과 한정된 자원, 글로벌 불확실성을 고려해 미래를 예견한 국가 전략을 개발하고 다음\n",
      "의 활동을 추진\n",
      "∙정부 내 AI 역량 향상과 AI 전문가 채용을 위한 투자를 시행하고 AI 전담 기관의 설립 필요성을 신중히 검토\n",
      "∙생성AI와 인간 간 상호작용 , 생성AI와 여타 기술의 융합, 생성AI 신기능과 관련된 혁신 및 이로 인한 \n",
      "새로운 위험을 탐색 \n",
      "∙기존 규제의 영향 평가 및 미래 AI 발전에 대비한 영향 평가로 규제 민첩성을 유지하며 , 일례로 \n",
      "광범위한 도입에 앞서 규제 유예제도 (샌드박스 )를 시범 운영\n",
      "∙지식과 인프라 공유와 AI 안전성 연구, AI 표준의 일관성 확보를 위한 국제협력 추진\n",
      "☞ 출처: World Economic Forum, Governance in the Age of Generative AI: A 360° Approach for Resilient Policy and Regulation, 2024.10.08.' metadata={'source': '인공지능산업최신동향_2024년11월호.pdf', 'page': 7}\n",
      "page_content='SPRi AI Brief |  \n",
      "2024-11 월호\n",
      "6CB인사이츠 분석 결과, 2024 년 3분기 벤처 투자 31%가 AI 스타트업에 집중\n",
      "nCB인사이츠에 따르면 2024 년 3분기 AI 스타트업은 전체 벤처 투자의 31%를 유치했으며 , \n",
      "AI 스타트업의 투자금 회수 시점은 일반 기업보다 6년 빠른 것으로 확인\n",
      "n그러나 CB인사이츠는 투자자들의 낙관적 기대에도 불구하고 오픈AI와 같은 거대 기업도 \n",
      "비용 통제에 어려움을 겪고 있다며 상당수 AI 스타트업이 실패할 것으로 예상KEY Contents\n",
      "£AI 스타트업 , 벤처 투자의 최우선 고려 대상으로 부상\n",
      "n글로벌 리서치 기업 CB인사이츠 (CB Insights) 가 2024 년 10월 3일 발표한 2024 년 3분기 벤처 \n",
      "현황 보고서에 따르면  2024 년 3분기 벤처 자금의 31%가 AI 스타트업에 투자된 것으로 분석  \n",
      "∙AI 스타트업은 2024 년 2분기에 전체 벤처 투자의 35%를 유치하며 역대 최고 비중을 차지했으며 , \n",
      "3분기에도 역대 두 번째로 높은 비중을 기록\n",
      "∙오픈AI의 공동설립자 일리야 수츠케버 (Ilya Sutskever) 가 2024 년 6월 설립한 스타트업 SSI(Safe \n",
      "Superintelligence Inc.)는 10억 달러를 유치하며 3분기 대표적인 AI 투자로 기록\n",
      "∙CB인사이츠가 전 세계 1만 5천 개 이상의 AI 스타트업을 추적한 결과, 전 세계 AI 스타트업의 43%가 미국 \n",
      "기업이며 , 다음 순위는 중국이 9%, 영국이 7%, 인도와 캐나다가 각각 4%로 미국과 상당한 격차를 기록\n",
      "n기업가치 10억 달러 이상의 유니콘 기업은 2024년 3분기에 24개가 탄생했으며 , 이중 절반 이상이 \n",
      "AI 기업인 것으로 확인\n",
      "∙범용 로봇 개발기업 스킬드 AI(Skild AI), 공간지능에 특화된 월드랩스 (World Labs), 법률 AI \n",
      "서비스 기업 하비(Harvey) 등이 유니콘 지위를 획득\n",
      "nAI 스타트업은 투자금 회수(Exit) 시점도 일반 스타트업보다 훨씬 빨라 AI 기업이 엑시트하는 시점은 \n",
      "설립 후 7년에 불과했으나 여타 스타트업은 13년 소요되었으며 , 이러한 경향은 M&A에서 가장 뚜렷해 \n",
      "2024년 AI 스타트업 엑시트는 대부분 M&A를 통해 달성\n",
      "∙대기업들은 자사 제품군에 AI 도구를 신속히 도입하고자 AI 스타트업 인수에 적극적인 행보를 보이고 \n",
      "있으며 , 일례로 엔비디아 (Nvidia) 는 2024년에 AI 스타트업 3곳을 인수했고 , 세일즈포스 (Salesforce) 는 \n",
      "2024년 9월 AI 스타트업 2곳을 인수\n",
      "n그러나 CB인사이츠는 투자자들의 낙관적 기대에도 불구하고 현재의 AI스타트업 중 상당수는 기대에  \n",
      "부응하지 못하고 실패하게 될 것으로 예상\n",
      "∙CB인사이츠는 오픈AI와 같은 거대 AI 기업조차도 수익을 내지 못해 비용을 통제해야 하는 어려움을 \n",
      "겪고 있다며 , 오픈AI의 2024 년 손실 규모가 50억 달러에 달할 것으로 전망\n",
      "☞ 출처 : CB Insights, State of Venture Q3’24 Report, 2024.10.03.' metadata={'source': '인공지능산업최신동향_2024년11월호.pdf', 'page': 8}\n",
      "page_content='1. 정책/법제  2. 기업/산업 3. 기술/연구  4. 인력/교육\n",
      "7메타, 동영상 생성AI 도구 ‘메타 무비 젠’ 공개\n",
      "n메타가 동영상 생성, 개인화 동영상 제작, 동영상 편집, 오디오 생성과 같은 기능을 지원하는 \n",
      "‘메타 무비 젠’을 공개하고 2025년 중 인스타그램 등 자사 플랫폼에 통합할 계획\n",
      "n메타 무비 젠은 인간 선호도 평가에서 런웨이의 젠 3, 오픈AI의 소라, 클링 1.5와 같은 경쟁 \n",
      "동영상 AI 모델보다 더 높은 점수를 기록KEY Contents\n",
      "£메타, 동영상 제작과 편집, 오디오 생성을 지원하는 메타 무비 젠을 공개 \n",
      "n메타(Meta) 가 2024 년 10월 4일 텍스트 입력을 통해 고해상도 동영상을 생성하는 AI 도구 ‘메타 \n",
      "무비 젠(Meta Movie Gen)’ 을 공개\n",
      "∙메타는 크리에이터와 영화 제작자 등 소수의 외부 파트너에게 메타 무비 젠을 우선 제공 후 피드백을 \n",
      "반영해 기능을 개선할 계획으로 , 단독 서비스로 출시하는 대신 2025 년 중 인스타그램 (Instagram) 과 \n",
      "같은 자사 소셜미디어 플랫폼에 통합하여 제공할 방침\n",
      "n메타 무비 젠은 △동영상 생성 △개인화 동영상 생성 △동영상 편집 △오디오 생성의 4가지 기능을 지원\n",
      "∙(동영상 생성) 300억 개 매개변수의 AI 모델을 통해 초당 16프레임의 속도로 1,080p 해상도의 최대 \n",
      "16초 길이 동영상 생성을 지원\n",
      "∙(개인화 동영상 생성) 사용자가 자신이나 타인의 이미지와 텍스트를 입력해 원래 인물의 고유한 특징을 \n",
      "반영한 개인화 동영상을 제작 가능\n",
      "∙(동영상 편집) 특정 요소의 추가나 제거, 변경과 같은 부분적 수정 및 동영상 배경 또는 스타일 변경과 \n",
      "같은 광범위한 수정도 지원\n",
      "∙(오디오 생성) 130억 개 매개변수의 오디오 생성 모델을 통합해 동영상과 텍스트 프롬프트 기반으로 \n",
      "최대 45초 길이의 배경음 , 음향 효과 등 고품질 오디오를 생성\n",
      "£메타 무비 젠, 인간 선호도 평가에서 오픈AI의 소라 능가\n",
      "n메타 무비 젠은 인간 선호도 평가에서 런웨이 (Runway) 의 젠(Gen) 3, 오픈AI의 소라(Sora) 를 \n",
      "비롯한 경쟁 동영상 생성AI 모델보다 더 높은 점수를 기록\n",
      "∙메타 무비 젠과 경쟁 모델에 대하여 세 명의 인간 평가자가 점수를 매겨 비교 후 순승률 (Net Win \n",
      "Rate)* 을 계산한 결과, 메타 무비 젠은 젠 3와 소라, 클링(Kling) 1.5를 모두 능가\n",
      "* 두 모델(A와 B)에 대하여 3명의 인간 평가자가 A 선호 시 +1점, 동점이면 0점, B 선호 시 –1점을 매기는 식으로 계산해 \n",
      "승률(-100%~100% 값)을 구하며 , 승률이 양수면 A 모델 선호, 음수면 B 모델 선호를 의미\n",
      "     \n",
      "<메타 무비 젠과 경쟁 AI 모델의 인간 선호도 평가 승률>\n",
      "☞ 출처: Meta, How Meta Movie Gen could usher in a new AI-enabled era for content creators, 2024.10.04.' metadata={'source': '인공지능산업최신동향_2024년11월호.pdf', 'page': 9}\n"
     ]
    }
   ],
   "source": [
    "#앞에서부터 10청크 출력\n",
    "for i in range(10):\n",
    "    print(splits[i])"
   ]
  },
  {
   "cell_type": "code",
   "execution_count": 10,
   "id": "f217de54-ab64-48d0-944f-e710bad48d09",
   "metadata": {},
   "outputs": [],
   "source": [
    "i=0"
   ]
  },
  {
   "cell_type": "code",
   "execution_count": 11,
   "id": "e886a292-f136-4d3a-bcfb-df1a01377ad2",
   "metadata": {
    "scrolled": true
   },
   "outputs": [
    {
     "name": "stdout",
     "output_type": "stream",
     "text": [
      "page_content='2024 년 11월호' metadata={'source': '인공지능산업최신동향_2024년11월호.pdf', 'page': 0}\n"
     ]
    }
   ],
   "source": [
    "#한 청크씩 출력\n",
    "print(splits[i])\n",
    "i+=1"
   ]
  },
  {
   "cell_type": "markdown",
   "id": "56ec0ce6-c88f-4570-aaa2-d62300e206f7",
   "metadata": {},
   "source": [
    "# CharacterTextSplitter\n",
    "pdf 페이지 단위로 청킹\n",
    "\n",
    "|parameter|역할|\n",
    "|---|---|\n",
    "|separator|구분자, 청킹의 기준|\n",
    "|chunk_size|각 청크 최대 길이|\n",
    "|chunk_overlap|청크 사이 중복되는 문자 수|\n",
    "|length_function|텍스트 길이 측정에 사용하는 함수|\n",
    "|is_separator_regex|separator값을 정규식으로 처리할지 말지|\n",
    "\n",
    "chunk_overlap - 청크간 문맥을 유지하기 위해 인접 청크에 약간의 중복을 허용함\n",
    "\n",
    "### separator\n",
    "특정 구분자를 사용해 텍스트를 나눔\n",
    "\n",
    "문장의 논리적 흐름을 해칠 가능성이 존재함\n",
    "\n",
    "주로 특징적 패턴이 반복적으로 나타나는 텍스트에 사용\n",
    "\n",
    "### is_separator_regex\n",
    "separator값을 정규식(regular expression)으로 처리할지 말지의 유무를 정하는 parameter\n",
    "\n",
    "True라면 separator를 정규식으로 처리해 re.split을 사용하여 텍스트를 나눔\n",
    "\n",
    "False라면 separator를 단순 문자열로 처리해 텍스트에서 해당 문자열을 찾아 분리"
   ]
  },
  {
   "cell_type": "markdown",
   "id": "bf2594be-3a68-4975-a3b1-c11feab2f0a1",
   "metadata": {},
   "source": [
    "4. 문서 청크로 나누기 - RecursiveCharacterTextSplitter"
   ]
  },
  {
   "cell_type": "code",
   "execution_count": 14,
   "id": "b51a70da-7af6-4cb9-9726-8d2b583b6823",
   "metadata": {},
   "outputs": [],
   "source": [
    "#RecursiveCharacterTextSplitter\n",
    "\n",
    "from langchain.text_splitter import RecursiveCharacterTextSplitter\n",
    "\n",
    "#splitter 생성\n",
    "recursive_text_splitter = RecursiveCharacterTextSplitter(\n",
    "    chunk_size=100,  #최대 청크 사이즈\n",
    "    chunk_overlap=10,#청크 내 중복되는 문자열\n",
    "    length_function=len,#길이 측정 메소드\n",
    "    is_separator_regex=False,#정규식\n",
    ")\n",
    "\n",
    "#청킹\n",
    "splits = recursive_text_splitter.split_documents(docs)"
   ]
  },
  {
   "cell_type": "code",
   "execution_count": 15,
   "id": "d2153f1b-37da-419a-b045-656a53e07bbc",
   "metadata": {},
   "outputs": [
    {
     "name": "stdout",
     "output_type": "stream",
     "text": [
      "page_content='2024 년 11월호' metadata={'source': '인공지능산업최신동향_2024년11월호.pdf', 'page': 0}\n",
      "page_content='2024 년 11월호\n",
      "Ⅰ. 인공지능 산업 동향 브리프\n",
      " 1. 정책/법제' metadata={'source': '인공지능산업최신동향_2024년11월호.pdf', 'page': 1}\n",
      "page_content='▹ 미국 민권위원회 , 연방정부의 얼굴인식 기술 사용에 따른 민권 영향 분석························ 1' metadata={'source': '인공지능산업최신동향_2024년11월호.pdf', 'page': 1}\n",
      "page_content='▹ 미국 백악관 예산관리국 , 정부의 책임 있는 AI 조달을 위한 지침 발표····························· 2' metadata={'source': '인공지능산업최신동향_2024년11월호.pdf', 'page': 1}\n",
      "page_content='▹ 유로폴 , 법 집행에서 AI의 이점과 과제를 다룬 보고서 발간·············································· 3' metadata={'source': '인공지능산업최신동향_2024년11월호.pdf', 'page': 1}\n",
      "page_content='▹ OECD, 공공 부문의 AI 도입을 위한 G7 툴킷 발표·························································· 4' metadata={'source': '인공지능산업최신동향_2024년11월호.pdf', 'page': 1}\n",
      "page_content='▹ 세계경제포럼 , 생성AI 시대의 거버넌스 프레임워크 제시···················································· 5' metadata={'source': '인공지능산업최신동향_2024년11월호.pdf', 'page': 1}\n",
      "page_content='2. 기업/산업 \n",
      "   ▹ CB인사이츠 분석 결과, 2024 년 3분기 벤처 투자 31%가 AI 스타트업에 집중·············· 6' metadata={'source': '인공지능산업최신동향_2024년11월호.pdf', 'page': 1}\n",
      "page_content='▹ 메타, 동영상 생성AI 도구 ‘메타 무비 젠’' metadata={'source': '인공지능산업최신동향_2024년11월호.pdf', 'page': 1}\n",
      "page_content='‘메타 무비 젠’ 공개··································································· 7' metadata={'source': '인공지능산업최신동향_2024년11월호.pdf', 'page': 1}\n"
     ]
    }
   ],
   "source": [
    "#앞에서부터 10청크 출력\n",
    "for i in range(10): #print(splits[i])\n",
    "    print(splits[i])"
   ]
  },
  {
   "cell_type": "code",
   "execution_count": 16,
   "id": "80e97db3-1707-4390-8e1b-785d418a95ad",
   "metadata": {},
   "outputs": [],
   "source": [
    "i=0"
   ]
  },
  {
   "cell_type": "code",
   "execution_count": 17,
   "id": "1aeb6ab4-420f-4426-88f0-3faba41edfa1",
   "metadata": {},
   "outputs": [
    {
     "name": "stdout",
     "output_type": "stream",
     "text": [
      "page_content='2024 년 11월호' metadata={'source': '인공지능산업최신동향_2024년11월호.pdf', 'page': 0}\n"
     ]
    }
   ],
   "source": [
    "#한 청크씩 출력\n",
    "print(splits[i])\n",
    "i+=1"
   ]
  },
  {
   "cell_type": "markdown",
   "id": "b9dc8fa1-5a41-467f-a763-4bc728c72010",
   "metadata": {},
   "source": [
    "# RecursiveCharacterTextSplitter\n",
    "한 문단씩, 한 문장씩 청킹\n",
    "\n",
    "|parameter|역할|\n",
    "|---|---|\n",
    "|chunk_size|각 청크 최대 길이|\n",
    "|chunk_overlap|청크 사이 중복되는 문자 수|\n",
    "|length_function|텍스트 길이 측정에 사용하는 함수|\n",
    "|is_separator_regex|separator값을 정규식으로 처리할지 말지|\n",
    "\n",
    "### 구분자\n",
    "미리 설정된 계층적 구분자를 사용\n",
    "\n",
    "\"\\n\\n\" -> \"\\n\" -> \" \" (단락->줄바꿈->공백) 순으로 구분자 사용\n",
    "\n",
    "가장 큰 구분자로 텍스트를 분할한 뒤, 청크가 너무 크면 더 작은 구분자 사용\n",
    "\n",
    "최대한 의미를 유지하며 청킹, 문맥을 최대한 유지해야 하는 상황에 적합"
   ]
  },
  {
   "cell_type": "markdown",
   "id": "e012535f-8b0b-4483-9cf8-e413df29630b",
   "metadata": {},
   "source": [
    "5.  벡터 임베딩 생성"
   ]
  },
  {
   "cell_type": "code",
   "execution_count": 20,
   "id": "b2734dec-05f8-4e7f-879c-d1a4d46a9d19",
   "metadata": {
    "scrolled": true
   },
   "outputs": [],
   "source": [
    "from langchain_google_genai import GoogleGenerativeAIEmbeddings\n",
    "\n",
    "#Gemini Embedding\n",
    "embeddings = GoogleGenerativeAIEmbeddings(model=\"models/embedding-001\")\n",
    "#type(embeddings): GoogleGenerativeAIEmbeddings"
   ]
  },
  {
   "cell_type": "markdown",
   "id": "2959d851-055c-4eab-8413-5af1cdc53fe1",
   "metadata": {},
   "source": [
    "6. 벡터 스토어 생성"
   ]
  },
  {
   "cell_type": "code",
   "execution_count": 22,
   "id": "4b2dbb61-b0dd-495e-a69e-25df1a8232ba",
   "metadata": {},
   "outputs": [
    {
     "ename": "ImportError",
     "evalue": "DLL load failed while importing _swigfaiss: 지정된 모듈을 찾을 수 없습니다.",
     "output_type": "error",
     "traceback": [
      "\u001b[1;31m---------------------------------------------------------------------------\u001b[0m",
      "\u001b[1;31mImportError\u001b[0m                               Traceback (most recent call last)",
      "\u001b[1;32m~\\AppData\\Local\\Temp\\ipykernel_12052\\1995101169.py\u001b[0m in \u001b[0;36m?\u001b[1;34m()\u001b[0m\n\u001b[1;32m----> 1\u001b[1;33m \u001b[1;32mimport\u001b[0m \u001b[0mfaiss\u001b[0m\u001b[1;33m\u001b[0m\u001b[1;33m\u001b[0m\u001b[0m\n\u001b[0m\u001b[0;32m      2\u001b[0m \u001b[1;32mfrom\u001b[0m \u001b[0mlangchain_community\u001b[0m\u001b[1;33m.\u001b[0m\u001b[0mvectorstores\u001b[0m \u001b[1;32mimport\u001b[0m \u001b[0mFAISS\u001b[0m\u001b[1;33m\u001b[0m\u001b[1;33m\u001b[0m\u001b[0m\n\u001b[0;32m      3\u001b[0m \u001b[1;33m\u001b[0m\u001b[0m\n\u001b[0;32m      4\u001b[0m \u001b[1;31m#FAISS 벡터스토어 생성\u001b[0m\u001b[1;33m\u001b[0m\u001b[1;33m\u001b[0m\u001b[0m\n",
      "\u001b[1;32m~\\anaconda3\\envs\\Ch3_ChatBot\\Lib\\site-packages\\faiss\\__init__.py\u001b[0m in \u001b[0;36m?\u001b[1;34m()\u001b[0m\n\u001b[0;32m     12\u001b[0m \u001b[1;32mimport\u001b[0m \u001b[0msys\u001b[0m\u001b[1;33m\u001b[0m\u001b[1;33m\u001b[0m\u001b[0m\n\u001b[0;32m     13\u001b[0m \u001b[1;32mimport\u001b[0m \u001b[0minspect\u001b[0m\u001b[1;33m\u001b[0m\u001b[1;33m\u001b[0m\u001b[0m\n\u001b[0;32m     14\u001b[0m \u001b[1;33m\u001b[0m\u001b[0m\n\u001b[0;32m     15\u001b[0m \u001b[1;31m# We import * so that the symbol foo can be accessed as faiss.foo.\u001b[0m\u001b[1;33m\u001b[0m\u001b[1;33m\u001b[0m\u001b[0m\n\u001b[1;32m---> 16\u001b[1;33m \u001b[1;32mfrom\u001b[0m \u001b[1;33m.\u001b[0m\u001b[0mloader\u001b[0m \u001b[1;32mimport\u001b[0m \u001b[1;33m*\u001b[0m\u001b[1;33m\u001b[0m\u001b[1;33m\u001b[0m\u001b[0m\n\u001b[0m\u001b[0;32m     17\u001b[0m \u001b[1;33m\u001b[0m\u001b[0m\n\u001b[0;32m     18\u001b[0m \u001b[1;31m# additional wrappers\u001b[0m\u001b[1;33m\u001b[0m\u001b[1;33m\u001b[0m\u001b[0m\n\u001b[0;32m     19\u001b[0m \u001b[1;32mfrom\u001b[0m \u001b[0mfaiss\u001b[0m \u001b[1;32mimport\u001b[0m \u001b[0mclass_wrappers\u001b[0m\u001b[1;33m\u001b[0m\u001b[1;33m\u001b[0m\u001b[0m\n",
      "\u001b[1;32m~\\anaconda3\\envs\\Ch3_ChatBot\\Lib\\site-packages\\faiss\\loader.py\u001b[0m in \u001b[0;36m?\u001b[1;34m()\u001b[0m\n\u001b[0;32m    130\u001b[0m \u001b[1;33m\u001b[0m\u001b[0m\n\u001b[0;32m    131\u001b[0m \u001b[1;32mif\u001b[0m \u001b[1;32mnot\u001b[0m \u001b[0mloaded\u001b[0m\u001b[1;33m:\u001b[0m\u001b[1;33m\u001b[0m\u001b[1;33m\u001b[0m\u001b[0m\n\u001b[0;32m    132\u001b[0m     \u001b[1;31m# we import * so that the symbol X can be accessed as faiss.X\u001b[0m\u001b[1;33m\u001b[0m\u001b[1;33m\u001b[0m\u001b[0m\n\u001b[0;32m    133\u001b[0m     \u001b[0mlogger\u001b[0m\u001b[1;33m.\u001b[0m\u001b[0minfo\u001b[0m\u001b[1;33m(\u001b[0m\u001b[1;34m\"Loading faiss.\"\u001b[0m\u001b[1;33m)\u001b[0m\u001b[1;33m\u001b[0m\u001b[1;33m\u001b[0m\u001b[0m\n\u001b[1;32m--> 134\u001b[1;33m     \u001b[1;32mfrom\u001b[0m \u001b[1;33m.\u001b[0m\u001b[0mswigfaiss\u001b[0m \u001b[1;32mimport\u001b[0m \u001b[1;33m*\u001b[0m\u001b[1;33m\u001b[0m\u001b[1;33m\u001b[0m\u001b[0m\n\u001b[0m\u001b[0;32m    135\u001b[0m     \u001b[0mlogger\u001b[0m\u001b[1;33m.\u001b[0m\u001b[0minfo\u001b[0m\u001b[1;33m(\u001b[0m\u001b[1;34m\"Successfully loaded faiss.\"\u001b[0m\u001b[1;33m)\u001b[0m\u001b[1;33m\u001b[0m\u001b[1;33m\u001b[0m\u001b[0m\n",
      "\u001b[1;32m~\\anaconda3\\envs\\Ch3_ChatBot\\Lib\\site-packages\\faiss\\swigfaiss.py\u001b[0m in \u001b[0;36m?\u001b[1;34m()\u001b[0m\n\u001b[0;32m      9\u001b[0m     \u001b[1;32mraise\u001b[0m \u001b[0mRuntimeError\u001b[0m\u001b[1;33m(\u001b[0m\u001b[1;34m\"Python 2.7 or later required\"\u001b[0m\u001b[1;33m)\u001b[0m\u001b[1;33m\u001b[0m\u001b[1;33m\u001b[0m\u001b[0m\n\u001b[0;32m     10\u001b[0m \u001b[1;33m\u001b[0m\u001b[0m\n\u001b[0;32m     11\u001b[0m \u001b[1;31m# Import the low-level C/C++ module\u001b[0m\u001b[1;33m\u001b[0m\u001b[1;33m\u001b[0m\u001b[0m\n\u001b[0;32m     12\u001b[0m \u001b[1;32mif\u001b[0m \u001b[0m__package__\u001b[0m \u001b[1;32mor\u001b[0m \u001b[1;34m\".\"\u001b[0m \u001b[1;32min\u001b[0m \u001b[0m__name__\u001b[0m\u001b[1;33m:\u001b[0m\u001b[1;33m\u001b[0m\u001b[1;33m\u001b[0m\u001b[0m\n\u001b[1;32m---> 13\u001b[1;33m     \u001b[1;32mfrom\u001b[0m \u001b[1;33m.\u001b[0m \u001b[1;32mimport\u001b[0m \u001b[0m_swigfaiss\u001b[0m\u001b[1;33m\u001b[0m\u001b[1;33m\u001b[0m\u001b[0m\n\u001b[0m\u001b[0;32m     14\u001b[0m \u001b[1;32melse\u001b[0m\u001b[1;33m:\u001b[0m\u001b[1;33m\u001b[0m\u001b[1;33m\u001b[0m\u001b[0m\n\u001b[0;32m     15\u001b[0m     \u001b[1;32mimport\u001b[0m \u001b[0m_swigfaiss\u001b[0m\u001b[1;33m\u001b[0m\u001b[1;33m\u001b[0m\u001b[0m\n\u001b[0;32m     16\u001b[0m \u001b[1;33m\u001b[0m\u001b[0m\n",
      "\u001b[1;31mImportError\u001b[0m: DLL load failed while importing _swigfaiss: 지정된 모듈을 찾을 수 없습니다."
     ]
    }
   ],
   "source": [
    "import faiss\n",
    "from langchain_community.vectorstores import FAISS\n",
    "\n",
    "#FAISS 벡터스토어 생성\n",
    "vectorstore = FAISS.from_documents(documents=splits,embedding=embeddings)"
   ]
  },
  {
   "cell_type": "markdown",
   "id": "99fa6ad2-9ee3-441a-a5fa-44a4ea4aad06",
   "metadata": {},
   "source": [
    "이 뒷부분부터는 갑자기 고장나기 전에 돌렸을땐 멀쩡히 결과를 출력했다\n",
    "\n",
    "7. FAISS를 Retriever로 변환"
   ]
  },
  {
   "cell_type": "code",
   "execution_count": null,
   "id": "764e8011-8440-4dcf-a774-ba4a063c9ddb",
   "metadata": {},
   "outputs": [],
   "source": [
    "#벡터스토어에서 Retriever로 변환\n",
    "retriever = vectorstore.as_retriever(search_type=\"similarity\", search_kwargs={\"k\": 1})"
   ]
  },
  {
   "cell_type": "markdown",
   "id": "c232cfaf-762e-450e-8fa9-35baddd6f1af",
   "metadata": {},
   "source": [
    "8. 프롬프트 템플릿 정의"
   ]
  },
  {
   "cell_type": "code",
   "execution_count": null,
   "id": "ec7c479d-a985-4613-88c4-63154add4ce3",
   "metadata": {},
   "outputs": [],
   "source": [
    "from langchain_core.prompts import ChatPromptTemplate\n",
    "from langchain_core.runnables import RunnablePassthrough\n",
    "\n",
    "# 프롬프트 템플릿 정의\n",
    "contextual_prompt = ChatPromptTemplate.from_messages([\n",
    "    (\"system\", \"Answer the question using only the following context.\"),\n",
    "    (\"user\", \"Context: {context}\\\\n\\\\nQuestion: {question}\")\n",
    "])"
   ]
  },
  {
   "cell_type": "markdown",
   "id": "02f75eef-4c5a-4962-a53e-d0210db4496e",
   "metadata": {},
   "source": [
    "9. RAG 체인 구성"
   ]
  },
  {
   "cell_type": "code",
   "execution_count": null,
   "id": "53541f48-358f-476b-a697-6b0cce23d6ef",
   "metadata": {},
   "outputs": [],
   "source": [
    "from langchain.chains import LLMChain\n",
    "\n",
    "class SimplePassThrough:\n",
    "    def invoke(self, inputs, **kwargs):\n",
    "        return inputs\n",
    "\n",
    "class ContextToPrompt:\n",
    "    def __init__(self, prompt_template):\n",
    "        self.prompt_template = prompt_template\n",
    "    \n",
    "    def invoke(self, inputs):\n",
    "        # 문서 내용을 텍스트로 변환\n",
    "        if isinstance(inputs, list):\n",
    "            context_text = \"\\n\".join([doc.page_content for doc in inputs])\n",
    "        else:\n",
    "            context_text = inputs\n",
    "        \n",
    "        # 프롬프트 템플릿에 적용\n",
    "        formatted_prompt = self.prompt_template.format_messages(\n",
    "            context=context_text,\n",
    "            question=inputs.get(\"question\", \"\")\n",
    "        )\n",
    "        return formatted_prompt\n",
    "\n",
    "# Retriever를 invoke() 메서드로 래핑하는 클래스 정의\n",
    "class RetrieverWrapper:\n",
    "    def __init__(self, retriever):\n",
    "        self.retriever = retriever\n",
    "\n",
    "    def invoke(self, inputs):\n",
    "        if isinstance(inputs, dict):\n",
    "            query = inputs.get(\"question\", \"\")\n",
    "        else:\n",
    "            query = inputs\n",
    "        # 검색 수행\n",
    "        response_docs = self.retriever.get_relevant_documents(query)\n",
    "        return response_docs\n",
    "\n",
    "llm_chain = LLMChain(llm=model, prompt=contextual_prompt)\n",
    "\n",
    "# RAG 체인 설정\n",
    "rag_chain_debug = {\n",
    "    \"context\": RetrieverWrapper(retriever),\n",
    "    \"prompt\": ContextToPrompt(contextual_prompt),\n",
    "    \"llm\": model\n",
    "}"
   ]
  },
  {
   "cell_type": "markdown",
   "id": "2c4957f0-64ec-4c9d-b9e4-97cc471dc12c",
   "metadata": {},
   "source": [
    "10. 챗봇 구동 확인"
   ]
  },
  {
   "cell_type": "code",
   "execution_count": null,
   "id": "222b7005-cdce-44e8-b41a-3cc05a6445a4",
   "metadata": {},
   "outputs": [],
   "source": [
    "# 챗봇 구동\n",
    "while True:\n",
    "    print(\"========================\")\n",
    "    query = input(\"질문을 입력하세요 : \")\n",
    "    \n",
    "    # 1. Retriever로 관련 문서 검색\n",
    "    response_docs = rag_chain_debug[\"context\"].invoke({\"question\": query})\n",
    "    \n",
    "    # 2. 문서를 프롬프트로 변환\n",
    "    prompt_messages = rag_chain_debug[\"prompt\"].invoke({\n",
    "        \"context\": response_docs,\n",
    "        \"question\": query\n",
    "    })\n",
    "    \n",
    "    # 3. LLM으로 응답 생성\n",
    "    response = rag_chain_debug[\"llm\"].invoke(prompt_messages)\n",
    "    \n",
    "    print(\"\\n답변:\")\n",
    "    print(response.content)"
   ]
  },
  {
   "cell_type": "markdown",
   "id": "7164bda0-f482-4a15-93fa-26f3c31ead1c",
   "metadata": {},
   "source": [
    "# 예상 답안\n",
    "갑자기 모델이 망가져서 답변을 출력할 도리가 없지만, AnythingLLM에 같은 문서를 학습시켜 출력한 예상 답안은 다음과 같다:\n",
    "\n",
    "---\n",
    "OECD G7 AI 툴킷\n",
    "\n",
    "OECD G7 AI 툴킷은 경제협력개발기구(OECD)가 발표한 보고서로, G7 국가가 공공 부문에서 인공지능(AI)을 효과적이고 책임감 있게 도입할 수 있도록 안내합니다.\n",
    "\n",
    "목적:\n",
    "\n",
    "OECD G7 AI 툴킷의 목적은 다음과 같습니다.\n",
    "\n",
    "G7 국가의 AI 정책 및 전략 개발 지원\n",
    "공공 부문에서 AI 사용에 대한 모범 사례와 지침 제공\n",
    "AI의 윤리적, 사회적, 경제적 영향 완화\n",
    "AI 기술과 응용 분야에 대한 이해력 향상\n",
    "주요 내용:\n",
    "\n",
    "OECD G7 AI 툴킷은 다음과 같은 주요 내용을 다룹니다.\n",
    "\n",
    "AI 정책 프레임워크\n",
    "AI 거버넌스 모델\n",
    "AI 역량 구축\n",
    "AI 생태계 육성\n",
    "AI 윤리적 고려 사항\n",
    "AI 표준화\n",
    "의의:\n",
    "\n",
    "OECD G7 AI 툴킷은 공공 부문이 AI의 잠재력을 활용하면서도 관련 위험을 관리하는 데 도움이 되도록 고안되었습니다. 이는 G7 국가 간의 협력을 강화하고 AI 분야에서 글로벌 리더십을 확립하는 데 기여합니다.\n",
    "\n",
    "---"
   ]
  },
  {
   "cell_type": "markdown",
   "id": "1c1a94b7-7c2f-4157-8295-d86eb1fd5952",
   "metadata": {},
   "source": [
    "# 일반 Gemini의 답변\n",
    "OECD가 발표한 G7에 대한 설명\n",
    "OECD (경제협력개발기구)는 G7 국가들의 정책과 경제 동향을 꾸준히 분석하고 보고서를 발표합니다. OECD가 발표하는 G7 관련 보고서는 주로 다음과 같은 내용을 다룹니다.\n",
    "\n",
    "주요 내용\n",
    "G7 국가들의 경제 성장률 전망: 각국의 GDP 성장률, 소비, 투자 등 경제 지표를 분석하여 미래 경제 성장 전망을 제시합니다.\n",
    "물가 상승률 및 통화 정책: 인플레이션, 금리 변동 등 물가 관련 지표를 분석하고 각국의 통화 정책 방향을 제시합니다.\n",
    "고용 시장 동향: 실업률, 고용률 등 고용 시장 지표를 분석하여 노동 시장의 변화를 파악합니다.\n",
    "무역 및 투자: 각국의 수출입 규모, 투자 동향 등을 분석하여 국제 무역 환경 변화를 파악합니다.\n",
    "재정 정책: 각국의 재정 지출, 세수 등 재정 정책 동향을 분석하고 재정 건전성을 평가합니다.\n",
    "구조 개혁: 노동 시장 유연화, 규제 완화 등 각국의 구조 개혁 노력을 평가하고 그 효과를 분석합니다.\n",
    "지속 가능한 개발: 기후 변화, 에너지 전환 등 지속 가능한 개발을 위한 각국의 노력을 평가합니다.\n",
    "디지털 전환: 디지털 기술 발전에 따른 경제 사회 변화와 각국의 대응 방안을 분석합니다.\n",
    "OECD 보고서의 특징 및 활용\n",
    "객관적이고 신뢰성 높은 데이터 제공: OECD는 각국 정부로부터 제공받은 정확한 데이터를 기반으로 분석을 진행하기 때문에, 보고서의 신뢰도가 높습니다.\n",
    "국제 비교 분석: G7 국가들을 비교 분석하여 각국의 강점과 약점을 파악하고, 정책 개선 방향을 제시합니다.\n",
    "정책 수립의 기초 자료: 각국 정부는 OECD 보고서를 참고하여 경제 정책을 수립하고, 국제 협력을 강화하는 데 활용합니다.\n",
    "투자자 및 기업들의 의사 결정 지원: 투자자 및 기업들은 OECD 보고서를 통해 투자 환경 변화를 파악하고, 사업 전략을 수립하는 데 활용합니다.\n",
    "왜 OECD 보고서를 주목해야 할까요?\n",
    "OECD 보고서는 G7 국가들의 경제 동향을 파악하고, 미래 경제 전망을 예측하는 데 유용한 정보를 제공합니다. 특히, 글로벌 경제 환경 변화에 따른 각국의 대응 전략과 정책 방향을 파악하는 데 도움이 됩니다.\n",
    "\n",
    "더 궁금한 점이 있다면 언제든지 질문해주세요.\n",
    "\n",
    "예시 질문:\n",
    "최근 OECD에서 발표한 G7 보고서의 주요 내용은 무엇인가요?\n",
    "OECD 보고서는 어떤 방식으로 활용될 수 있나요?\n",
    "G7 외에 다른 국가들의 경제 동향을 분석하는 OECD 보고서는 없나요?\n",
    "어떤 질문에 대한 답변을 원하시나요?\n",
    "\n",
    "---\n",
    "\n",
    "OECD G7 AI 툴킷에 대해 질문한 내용에 대해 엉뚱한 답을 내놓고 있다. "
   ]
  },
  {
   "cell_type": "markdown",
   "id": "a9e75274-2e2e-4bcf-8115-0fdb054a1c89",
   "metadata": {},
   "source": [
    "# RAG가 필요한 이유\n",
    "일반적으로 LLM은 자신이 학습하지 못한 지식은 답변으로 작성할 수 없으며 질문을 받았을 때 제대로 된 답변을 생성해내지 못하고 엉뚱한 답안을 출력할 가능성이 높다. \n",
    "\n",
    "이때 RAG가 있다면 벡터 데이터베이스에서 관련된 내용을 검색해 답변 작성에 활용할 수 있다. "
   ]
  },
  {
   "cell_type": "code",
   "execution_count": null,
   "id": "167932cd-62b5-48dc-bdc6-822230b402a2",
   "metadata": {},
   "outputs": [],
   "source": []
  }
 ],
 "metadata": {
  "kernelspec": {
   "display_name": "Ch3",
   "language": "python",
   "name": "ch3_chatbot"
  },
  "language_info": {
   "codemirror_mode": {
    "name": "ipython",
    "version": 3
   },
   "file_extension": ".py",
   "mimetype": "text/x-python",
   "name": "python",
   "nbconvert_exporter": "python",
   "pygments_lexer": "ipython3",
   "version": "3.12.3"
  }
 },
 "nbformat": 4,
 "nbformat_minor": 5
}
